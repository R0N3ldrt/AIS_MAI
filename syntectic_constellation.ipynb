{
  "nbformat": 4,
  "nbformat_minor": 0,
  "metadata": {
    "colab": {
      "name": "Untitled8.ipynb",
      "provenance": [],
      "authorship_tag": "ABX9TyPmfOePBG1otMfUxIvmFIAI",
      "include_colab_link": true
    },
    "kernelspec": {
      "name": "python3",
      "display_name": "Python 3"
    },
    "language_info": {
      "name": "python"
    }
  },
  "cells": [
    {
      "cell_type": "markdown",
      "metadata": {
        "id": "view-in-github",
        "colab_type": "text"
      },
      "source": [
        "<a href=\"https://colab.research.google.com/github/R0N3ldrt/AIS_MAI/blob/main/syntectic_constellation.ipynb\" target=\"_parent\"><img src=\"https://colab.research.google.com/assets/colab-badge.svg\" alt=\"Open In Colab\"/></a>"
      ]
    },
    {
      "cell_type": "markdown",
      "source": [
        "# Syntectic Constellation"
      ],
      "metadata": {
        "id": "pGh8g-miYhWN"
      }
    },
    {
      "cell_type": "markdown",
      "source": [
        "# Loading Necesary Libraries"
      ],
      "metadata": {
        "id": "EnyBi7O6YtBK"
      }
    },
    {
      "cell_type": "code",
      "execution_count": 1,
      "metadata": {
        "id": "3CRIKozoYfn1"
      },
      "outputs": [],
      "source": [
        "# Importing necesary libraries\n",
        "# Libraries for correct code execution \n",
        "\n",
        "import os, time\n",
        "import pandas as pd\n",
        "import numpy as np\n",
        "import matplotlib.pyplot as plt\n",
        "import math\n",
        "import pickle\n",
        "import random\n",
        "import csv\n",
        "import re\n",
        "from tqdm import tqdm\n",
        "\n",
        "from math import modf\n",
        "from sklearn.model_selection import train_test_split\n",
        "from sklearn.preprocessing import MinMaxScaler\n",
        "from plotly.subplots import make_subplots\n",
        "\n",
        "import plotly.graph_objects as go\n",
        "import plotly.express as px\n",
        "from plotly.subplots import make_subplots\n",
        "\n",
        "from keras.models import Sequential\n",
        "from keras.layers import Dense,Conv2D, Flatten\n",
        "from keras.wrappers.scikit_learn import KerasRegressor\n",
        "from keras.callbacks import EarlyStopping\n",
        "from sklearn.mixture import GaussianMixture\n",
        "\n",
        "import warnings\n",
        "warnings.filterwarnings(\"ignore\")"
      ]
    },
    {
      "cell_type": "markdown",
      "source": [
        "# Load Enviroment"
      ],
      "metadata": {
        "id": "18mwd0RSYwZw"
      }
    },
    {
      "cell_type": "code",
      "source": [
        "# BLOQUE PARA USAR DESDE COLAB\n",
        "\n",
        "# Google drive loading as work station for local-usage of the files.\n",
        "from google.colab import drive\n",
        "drive.mount('/content/gdrive',force_remount= True)\n",
        "\n",
        "#-----------------------------------------------------------------------------"
      ],
      "metadata": {
        "colab": {
          "base_uri": "https://localhost:8080/"
        },
        "id": "YeY4YJAjY7dP",
        "outputId": "89a3d64f-6cca-4f79-fa52-af3e29b2b43b"
      },
      "execution_count": 2,
      "outputs": [
        {
          "output_type": "stream",
          "name": "stdout",
          "text": [
            "Mounted at /content/gdrive\n"
          ]
        }
      ]
    },
    {
      "cell_type": "code",
      "source": [
        "# Lista para cambiar los paths rapido.\n",
        "workers = [\"Ronald\", \"Local\"]\n",
        "\n",
        "# Change the number to change the paths.\n",
        "worker = workers[0]\n",
        "\n",
        "if worker == \"Ronald\":\n",
        "  path= \"/content/gdrive/MyDrive/Symbol_to_Symbol/ANN_dataset\"\n",
        "else: path = os.getcwd()"
      ],
      "metadata": {
        "id": "_Dd4TmFoY9yG"
      },
      "execution_count": 3,
      "outputs": []
    },
    {
      "cell_type": "code",
      "source": [
        "def syntetic_constellation(n_samples, r_dispertion, n_features = 2048, distribution_funct = 'uniform'):\n",
        "  samples_per_square = int(n_features/16)\n",
        "\n",
        "  data = {}\n",
        "  real = 3\n",
        "  imag = 1\n",
        "  i = 1\n",
        "  j = 1\n",
        "\n",
        "  samples_per_square_cnt = 0\n",
        "  symbol = complex(real, imag)\n",
        "  for feature_num in range(0, n_features):\n",
        "    sample_data = []\n",
        "\n",
        "    for sample in range(n_samples):\n",
        "      if r_dispertion == 0:\n",
        "       \n",
        "        #print(samples_per_square_cnt)\n",
        "        # Add here process to generate points here\n",
        "        if samples_per_square_cnt == samples_per_square-1:\n",
        "          samples_per_square = samples_per_square + 128\n",
        "          symbol = complex(real+i, imag+j)\n",
        "          i += 1\n",
        "          j += 1\n",
        "          # ----------------------------------- Need to fixi and j values\n",
        "      else:\n",
        "        pass\n",
        "        # --------------------------Add here code for uniform distribution\n",
        "      sample_data.append(symbol) #Add values here constellation points\n",
        "    samples_per_square_cnt += 1    \n",
        "      \n",
        "    data['o'+str(feature_num)] = sample_data\n",
        "\n",
        "  df = pd.DataFrame(data)\n",
        "  return df"
      ],
      "metadata": {
        "id": "CfEjvpTJaGW0"
      },
      "execution_count": 62,
      "outputs": []
    },
    {
      "cell_type": "code",
      "source": [
        "syntetic_constellation(n_samples=2, r_dispertion=0)"
      ],
      "metadata": {
        "colab": {
          "base_uri": "https://localhost:8080/",
          "height": 142
        },
        "id": "ptkq1Yn3ch2g",
        "outputId": "27dcca57-d748-4a28-d5a8-6be89822a8cc"
      },
      "execution_count": 63,
      "outputs": [
        {
          "output_type": "execute_result",
          "data": {
            "text/plain": [
              "         o0        o1        o2        o3        o4        o5        o6  \\\n",
              "0  3.0+1.0j  3.0+1.0j  3.0+1.0j  3.0+1.0j  3.0+1.0j  3.0+1.0j  3.0+1.0j   \n",
              "1  3.0+1.0j  3.0+1.0j  3.0+1.0j  3.0+1.0j  3.0+1.0j  3.0+1.0j  3.0+1.0j   \n",
              "\n",
              "         o7        o8        o9  ...       o2038       o2039       o2040  \\\n",
              "0  3.0+1.0j  3.0+1.0j  3.0+1.0j  ...  18.0+16.0j  18.0+16.0j  18.0+16.0j   \n",
              "1  3.0+1.0j  3.0+1.0j  3.0+1.0j  ...  18.0+16.0j  18.0+16.0j  18.0+16.0j   \n",
              "\n",
              "        o2041       o2042       o2043       o2044       o2045       o2046  \\\n",
              "0  18.0+16.0j  18.0+16.0j  18.0+16.0j  18.0+16.0j  18.0+16.0j  18.0+16.0j   \n",
              "1  18.0+16.0j  18.0+16.0j  18.0+16.0j  18.0+16.0j  18.0+16.0j  18.0+16.0j   \n",
              "\n",
              "        o2047  \n",
              "0  19.0+17.0j  \n",
              "1  19.0+17.0j  \n",
              "\n",
              "[2 rows x 2048 columns]"
            ],
            "text/html": [
              "\n",
              "  <div id=\"df-7ebbf992-6861-4fe6-99c8-738bd4b60a98\">\n",
              "    <div class=\"colab-df-container\">\n",
              "      <div>\n",
              "<style scoped>\n",
              "    .dataframe tbody tr th:only-of-type {\n",
              "        vertical-align: middle;\n",
              "    }\n",
              "\n",
              "    .dataframe tbody tr th {\n",
              "        vertical-align: top;\n",
              "    }\n",
              "\n",
              "    .dataframe thead th {\n",
              "        text-align: right;\n",
              "    }\n",
              "</style>\n",
              "<table border=\"1\" class=\"dataframe\">\n",
              "  <thead>\n",
              "    <tr style=\"text-align: right;\">\n",
              "      <th></th>\n",
              "      <th>o0</th>\n",
              "      <th>o1</th>\n",
              "      <th>o2</th>\n",
              "      <th>o3</th>\n",
              "      <th>o4</th>\n",
              "      <th>o5</th>\n",
              "      <th>o6</th>\n",
              "      <th>o7</th>\n",
              "      <th>o8</th>\n",
              "      <th>o9</th>\n",
              "      <th>...</th>\n",
              "      <th>o2038</th>\n",
              "      <th>o2039</th>\n",
              "      <th>o2040</th>\n",
              "      <th>o2041</th>\n",
              "      <th>o2042</th>\n",
              "      <th>o2043</th>\n",
              "      <th>o2044</th>\n",
              "      <th>o2045</th>\n",
              "      <th>o2046</th>\n",
              "      <th>o2047</th>\n",
              "    </tr>\n",
              "  </thead>\n",
              "  <tbody>\n",
              "    <tr>\n",
              "      <th>0</th>\n",
              "      <td>3.0+1.0j</td>\n",
              "      <td>3.0+1.0j</td>\n",
              "      <td>3.0+1.0j</td>\n",
              "      <td>3.0+1.0j</td>\n",
              "      <td>3.0+1.0j</td>\n",
              "      <td>3.0+1.0j</td>\n",
              "      <td>3.0+1.0j</td>\n",
              "      <td>3.0+1.0j</td>\n",
              "      <td>3.0+1.0j</td>\n",
              "      <td>3.0+1.0j</td>\n",
              "      <td>...</td>\n",
              "      <td>18.0+16.0j</td>\n",
              "      <td>18.0+16.0j</td>\n",
              "      <td>18.0+16.0j</td>\n",
              "      <td>18.0+16.0j</td>\n",
              "      <td>18.0+16.0j</td>\n",
              "      <td>18.0+16.0j</td>\n",
              "      <td>18.0+16.0j</td>\n",
              "      <td>18.0+16.0j</td>\n",
              "      <td>18.0+16.0j</td>\n",
              "      <td>19.0+17.0j</td>\n",
              "    </tr>\n",
              "    <tr>\n",
              "      <th>1</th>\n",
              "      <td>3.0+1.0j</td>\n",
              "      <td>3.0+1.0j</td>\n",
              "      <td>3.0+1.0j</td>\n",
              "      <td>3.0+1.0j</td>\n",
              "      <td>3.0+1.0j</td>\n",
              "      <td>3.0+1.0j</td>\n",
              "      <td>3.0+1.0j</td>\n",
              "      <td>3.0+1.0j</td>\n",
              "      <td>3.0+1.0j</td>\n",
              "      <td>3.0+1.0j</td>\n",
              "      <td>...</td>\n",
              "      <td>18.0+16.0j</td>\n",
              "      <td>18.0+16.0j</td>\n",
              "      <td>18.0+16.0j</td>\n",
              "      <td>18.0+16.0j</td>\n",
              "      <td>18.0+16.0j</td>\n",
              "      <td>18.0+16.0j</td>\n",
              "      <td>18.0+16.0j</td>\n",
              "      <td>18.0+16.0j</td>\n",
              "      <td>18.0+16.0j</td>\n",
              "      <td>19.0+17.0j</td>\n",
              "    </tr>\n",
              "  </tbody>\n",
              "</table>\n",
              "<p>2 rows × 2048 columns</p>\n",
              "</div>\n",
              "      <button class=\"colab-df-convert\" onclick=\"convertToInteractive('df-7ebbf992-6861-4fe6-99c8-738bd4b60a98')\"\n",
              "              title=\"Convert this dataframe to an interactive table.\"\n",
              "              style=\"display:none;\">\n",
              "        \n",
              "  <svg xmlns=\"http://www.w3.org/2000/svg\" height=\"24px\"viewBox=\"0 0 24 24\"\n",
              "       width=\"24px\">\n",
              "    <path d=\"M0 0h24v24H0V0z\" fill=\"none\"/>\n",
              "    <path d=\"M18.56 5.44l.94 2.06.94-2.06 2.06-.94-2.06-.94-.94-2.06-.94 2.06-2.06.94zm-11 1L8.5 8.5l.94-2.06 2.06-.94-2.06-.94L8.5 2.5l-.94 2.06-2.06.94zm10 10l.94 2.06.94-2.06 2.06-.94-2.06-.94-.94-2.06-.94 2.06-2.06.94z\"/><path d=\"M17.41 7.96l-1.37-1.37c-.4-.4-.92-.59-1.43-.59-.52 0-1.04.2-1.43.59L10.3 9.45l-7.72 7.72c-.78.78-.78 2.05 0 2.83L4 21.41c.39.39.9.59 1.41.59.51 0 1.02-.2 1.41-.59l7.78-7.78 2.81-2.81c.8-.78.8-2.07 0-2.86zM5.41 20L4 18.59l7.72-7.72 1.47 1.35L5.41 20z\"/>\n",
              "  </svg>\n",
              "      </button>\n",
              "      \n",
              "  <style>\n",
              "    .colab-df-container {\n",
              "      display:flex;\n",
              "      flex-wrap:wrap;\n",
              "      gap: 12px;\n",
              "    }\n",
              "\n",
              "    .colab-df-convert {\n",
              "      background-color: #E8F0FE;\n",
              "      border: none;\n",
              "      border-radius: 50%;\n",
              "      cursor: pointer;\n",
              "      display: none;\n",
              "      fill: #1967D2;\n",
              "      height: 32px;\n",
              "      padding: 0 0 0 0;\n",
              "      width: 32px;\n",
              "    }\n",
              "\n",
              "    .colab-df-convert:hover {\n",
              "      background-color: #E2EBFA;\n",
              "      box-shadow: 0px 1px 2px rgba(60, 64, 67, 0.3), 0px 1px 3px 1px rgba(60, 64, 67, 0.15);\n",
              "      fill: #174EA6;\n",
              "    }\n",
              "\n",
              "    [theme=dark] .colab-df-convert {\n",
              "      background-color: #3B4455;\n",
              "      fill: #D2E3FC;\n",
              "    }\n",
              "\n",
              "    [theme=dark] .colab-df-convert:hover {\n",
              "      background-color: #434B5C;\n",
              "      box-shadow: 0px 1px 3px 1px rgba(0, 0, 0, 0.15);\n",
              "      filter: drop-shadow(0px 1px 2px rgba(0, 0, 0, 0.3));\n",
              "      fill: #FFFFFF;\n",
              "    }\n",
              "  </style>\n",
              "\n",
              "      <script>\n",
              "        const buttonEl =\n",
              "          document.querySelector('#df-7ebbf992-6861-4fe6-99c8-738bd4b60a98 button.colab-df-convert');\n",
              "        buttonEl.style.display =\n",
              "          google.colab.kernel.accessAllowed ? 'block' : 'none';\n",
              "\n",
              "        async function convertToInteractive(key) {\n",
              "          const element = document.querySelector('#df-7ebbf992-6861-4fe6-99c8-738bd4b60a98');\n",
              "          const dataTable =\n",
              "            await google.colab.kernel.invokeFunction('convertToInteractive',\n",
              "                                                     [key], {});\n",
              "          if (!dataTable) return;\n",
              "\n",
              "          const docLinkHtml = 'Like what you see? Visit the ' +\n",
              "            '<a target=\"_blank\" href=https://colab.research.google.com/notebooks/data_table.ipynb>data table notebook</a>'\n",
              "            + ' to learn more about interactive tables.';\n",
              "          element.innerHTML = '';\n",
              "          dataTable['output_type'] = 'display_data';\n",
              "          await google.colab.output.renderOutput(dataTable, element);\n",
              "          const docLink = document.createElement('div');\n",
              "          docLink.innerHTML = docLinkHtml;\n",
              "          element.appendChild(docLink);\n",
              "        }\n",
              "      </script>\n",
              "    </div>\n",
              "  </div>\n",
              "  "
            ]
          },
          "metadata": {},
          "execution_count": 63
        }
      ]
    }
  ]
}